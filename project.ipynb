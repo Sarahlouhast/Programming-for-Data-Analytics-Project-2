{
 "cells": [
  {
   "cell_type": "markdown",
   "id": "01e1a4a7",
   "metadata": {},
   "source": [
    "## Project 2 - Programming for Data Analysis"
   ]
  },
  {
   "cell_type": "markdown",
   "id": "c073327b",
   "metadata": {},
   "source": [
    "### Course: HDip in Computing in Data Analytics\n",
    "### Module: Programming for Data Analysis\n",
    "### Student: Sarah Hastings\n",
    "### Student Number: G00235562\n",
    "***"
   ]
  },
  {
   "cell_type": "code",
   "execution_count": 5,
   "id": "f00338ba",
   "metadata": {},
   "outputs": [],
   "source": [
    "import numpy as np\n",
    "import pandas as pd\n",
    "import matplotlib.pyplot as plt\n",
    "import seaborn as sns"
   ]
  },
  {
   "cell_type": "markdown",
   "id": "ca5db8b6",
   "metadata": {},
   "source": [
    "## An analysis of paleo-present climate data\n",
    "\n",
    "\n",
    "• Analyse CO2 vs Temperature Anomaly from 800kyrs – present.\n",
    "\n",
    "• Examine one other (paleo/modern) features (e.g. CH4 or polar ice-coverage)\n",
    "\n",
    "• Examine Irish context:\n",
    "o Climate change signals: (see Maynooth study: The emergence of a climate change \n",
    "signal in long-term Irish meteorological observations - ScienceDirect)\n",
    "\n",
    "• Fuse and analyse data from various data sources and format fused data set as a pandas \n",
    "dataframe and export to csv and json formats\n",
    "\n",
    "• For all of the above variables, analyse the data, the trends and the relationships between \n",
    "them (temporal leads/lags/frequency analysis).\n",
    "\n",
    "• Predict global temperature anomaly over next few decades (synthesise data) and compare to \n",
    "published climate models if atmospheric CO2 trends continue\n",
    "\n",
    "• Comment on accelerated warming based on very latest features (e.g. temperature/polar-ice\u0002coverag"
   ]
  },
  {
   "cell_type": "code",
   "execution_count": null,
   "id": "0fc8c1ad",
   "metadata": {},
   "outputs": [],
   "source": []
  },
  {
   "cell_type": "code",
   "execution_count": null,
   "id": "9992c3bf",
   "metadata": {},
   "outputs": [],
   "source": []
  },
  {
   "cell_type": "code",
   "execution_count": null,
   "id": "bf936e85",
   "metadata": {},
   "outputs": [],
   "source": []
  },
  {
   "cell_type": "markdown",
   "id": "c95d6936",
   "metadata": {},
   "source": [
    "### References\n",
    "\n",
    "https://www.ipcc.ch/site/assets/uploads/2018/02/WG1AR5_Chapter05_FINAL.pdf\n",
    "\n",
    "https://www.ncei.noaa.gov/access/paleo-search/study/6080\n",
    "\n",
    "https://www.met.ie/climate/available-data/long-term-data-sets/\n",
    "\n",
    "https://www.sciencedirect.com/science/article/pii/S2212094723000610#bib13\n",
    "\n",
    "https://edition.cnn.com/2023/11/20/climate/2-degree-warming-limit-record-copernicus-climate-int/index.html"
   ]
  }
 ],
 "metadata": {
  "kernelspec": {
   "display_name": "Python 3 (ipykernel)",
   "language": "python",
   "name": "python3"
  },
  "language_info": {
   "codemirror_mode": {
    "name": "ipython",
    "version": 3
   },
   "file_extension": ".py",
   "mimetype": "text/x-python",
   "name": "python",
   "nbconvert_exporter": "python",
   "pygments_lexer": "ipython3",
   "version": "3.9.13"
  }
 },
 "nbformat": 4,
 "nbformat_minor": 5
}
