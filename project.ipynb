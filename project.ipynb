{
 "cells": [
  {
   "cell_type": "markdown",
   "id": "01e1a4a7",
   "metadata": {},
   "source": [
    "## Project 2 - Programming for Data Analysis"
   ]
  },
  {
   "cell_type": "markdown",
   "id": "c073327b",
   "metadata": {},
   "source": [
    "### Course: HDip in Computing in Data Analytics\n",
    "### Module: Programming for Data Analysis\n",
    "### Student: Sarah Hastings\n",
    "### Student Number: G00235562\n",
    "***"
   ]
  },
  {
   "cell_type": "code",
   "execution_count": 5,
   "id": "f00338ba",
   "metadata": {},
   "outputs": [],
   "source": [
    "import numpy as np\n",
    "import pandas as pd\n",
    "import matplotlib.pyplot as plt\n",
    "import seaborn as sns"
   ]
  },
  {
   "cell_type": "code",
   "execution_count": null,
   "id": "e4759905",
   "metadata": {},
   "outputs": [],
   "source": [
    "pd\n",
    "print\n",
    "df"
   ]
  },
  {
   "cell_type": "code",
   "execution_count": null,
   "id": "58df173e",
   "metadata": {},
   "outputs": [],
   "source": [
    "https://council.science/current/blog/climate-explained-why-is-the-arctic-warming-faster-than-other-parts-of-the-world/"
   ]
  },
  {
   "cell_type": "markdown",
   "id": "c6d414b2",
   "metadata": {},
   "source": [
    "https://www.climate.gov/maps-data/dataset/natural-records-past-climate-maps-visualizations-and-descriptive-information\n",
    "\n",
    "Paleoclimatology data are derived from natural sources such as tree rings, cave deposits, ice cores, fire history, coral growth bands, pollen, stalagmites, and ocean and lake sediments. These proxy climate data extend the weather and climate information archive by hundreds to millions of years. This is the world's largest archive of paleoclimatology data, with contributions from the international scientific community. The data include geophysical or biological measurement time series and some reconstructed climate variables such as temperature and precipitation.\n",
    "    \n",
    "    \n",
    "    "
   ]
  },
  {
   "cell_type": "markdown",
   "id": "8705a3f8",
   "metadata": {},
   "source": [
    "https://www.universityofgalway.ie/pru/"
   ]
  },
  {
   "cell_type": "markdown",
   "id": "53ae8cf0",
   "metadata": {},
   "source": [
    "https://www.epa.ie/publications/research/climate-change/Reserach_Report_277.pdf"
   ]
  },
  {
   "cell_type": "markdown",
   "id": "55ab1dff",
   "metadata": {},
   "source": [
    "Paleoclimatology is the study of past climates. Since it is not possible to go back in time to see what climates were like, scientists use imprints created during past climate, known as proxies, to interpret paleoclimate. Organisms, such as diatoms, forams, and coral serve as useful climate proxies. Other proxies include ice cores, tree rings, and sediment cores (which include diatoms, foraminifera, microbiota, pollen, and charcoal within the sediment and the sediment itself).\n",
    "\n",
    "Past climate can be reconstructed using a combination of different types of proxy records. These records can then be integrated with observations of Earth's modern climate and placed into a computer model to infer past as well as predict future climate."
   ]
  },
  {
   "cell_type": "code",
   "execution_count": null,
   "id": "5d94d2d5",
   "metadata": {},
   "outputs": [],
   "source": [
    "Paleoclimatology is the study of past climates. Since it is not possible to go back in time to see what climates were like, scientists use imprints created during past climate, known as proxies, to interpret paleoclimate. Organisms, such as diatoms, forams, and coral serve as useful climate proxies. Other proxies include ice cores, tree rings, and sediment cores (which include diatoms, foraminifera, microbiota, pollen, and charcoal within the sediment and the sediment itself).\n",
    "\n",
    "Past climate can be reconstructed using a combination of different types of proxy records. These records can then be integrated with observations of Earth's modern climate and placed into a computer model to infer past as well as predict future climate."
   ]
  },
  {
   "cell_type": "markdown",
   "id": "77c4f1c5",
   "metadata": {},
   "source": [
    "The science of paleoclimatology is important for past, contemporary, and future issues. Understanding past climate helps us to explain how current ecosystems came to be. For example, climate typically controls what types of vegetation grow in a particular area. Furthermore, paleoclimatology provides data that we can use to model and predict both current and future climate change scenarios. Computer models can be used to study the potential effect of increased atmospheric carbon dioxide on climate.\n",
    "\n",
    "With a system as complex as Earth's climate, it is a daunting task for scientists to be able to make projections about future climate changes and how it may affect the distribution of plants and animals. However, paleoclimate data are used as a foundation for climate scientists by providing crucial information such as rates of past climate change and how vegetation and animal populations responded to the change. Computer models can be used predict different future climate patterns, and paleoclimate data provides a useful framework from which to base these models. For more information about climate proxies and climate change, see the collections of web-based materials below"
   ]
  },
  {
   "cell_type": "code",
   "execution_count": null,
   "id": "c09908f6",
   "metadata": {},
   "outputs": [],
   "source": [
    "df\n",
    "\n",
    "analysis of \n",
    "\n",
    "irish Context\n",
    "\n",
    "\n",
    "\n"
   ]
  },
  {
   "cell_type": "markdown",
   "id": "b698e0ab",
   "metadata": {},
   "source": [
    "https://www.dias.ie/wp-content/uploads/2016/07/Session2_VRath_Iretherm2016.pdf\n",
    "\n",
    "\n",
    "https://www.newyorkfed.org/medialibrary/media/research/staff_reports/sr1031.pdf\n",
    "\n",
    "https://www.ncei.noaa.gov/products/paleoclimatology/paleo-perspectives/global-warming\n",
    "\n",
    "https://www.climate.gov/news-features/understanding-climate/climate-change-atmospheric-carbon-dioxide#:~:text=Based%20on%20air%20bubbles%20trapped,was%20280%20ppm%20or%20less.\n",
    "\n",
    "https://www.climate.gov/news-features/understanding-climate/climate-change-atmospheric-carbon-dioxide\n",
    "\n",
    "\n",
    "Based on air bubbles trapped in mile-thick ice cores and other paleoclimate evidence, we know that during the ice age cycles of the past million years or so, atmospheric carbon dioxide never exceeded 300 ppm. Before the Industrial Revolution started in the mid-1700s, atmospheric carbon dioxide was 280 ppm or less"
   ]
  },
  {
   "cell_type": "markdown",
   "id": "ca5db8b6",
   "metadata": {},
   "source": [
    "## An analysis of paleo-present climate data\n",
    "\n",
    "\n",
    "• Analyse CO2 vs Temperature Anomaly from 800kyrs – present.\n",
    "\n",
    "• Examine one other (paleo/modern) features (e.g. CH4 or polar ice-coverage)\n",
    "\n",
    "• Examine Irish context:\n",
    "o Climate change signals: (see Maynooth study: The emergence of a climate change \n",
    "signal in long-term Irish meteorological observations - ScienceDirect)\n",
    "\n",
    "• Fuse and analyse data from various data sources and format fused data set as a pandas \n",
    "dataframe and export to csv and json formats\n",
    "\n",
    "• For all of the above variables, analyse the data, the trends and the relationships between \n",
    "them (temporal leads/lags/frequency analysis).\n",
    "\n",
    "• Predict global temperature anomaly over next few decades (synthesise data) and compare to \n",
    "published climate models if atmospheric CO2 trends continue\n",
    "\n",
    "• Comment on accelerated warming based on very latest features (e.g. temperature/polar-ice\u0002coverag"
   ]
  },
  {
   "cell_type": "code",
   "execution_count": null,
   "id": "0fc8c1ad",
   "metadata": {},
   "outputs": [],
   "source": []
  },
  {
   "cell_type": "code",
   "execution_count": null,
   "id": "9992c3bf",
   "metadata": {},
   "outputs": [],
   "source": []
  },
  {
   "cell_type": "code",
   "execution_count": null,
   "id": "bf936e85",
   "metadata": {},
   "outputs": [],
   "source": []
  },
  {
   "cell_type": "markdown",
   "id": "c95d6936",
   "metadata": {},
   "source": [
    "### References\n",
    "\n",
    "https://www.ipcc.ch/site/assets/uploads/2018/02/WG1AR5_Chapter05_FINAL.pdf\n",
    "\n",
    "https://www.ncei.noaa.gov/access/paleo-search/study/6080\n",
    "\n",
    "https://www.met.ie/climate/available-data/long-term-data-sets/\n",
    "\n",
    "https://www.sciencedirect.com/science/article/pii/S2212094723000610#bib13\n",
    "\n",
    "https://edition.cnn.com/2023/11/20/climate/2-degree-warming-limit-record-copernicus-climate-int/index.html"
   ]
  }
 ],
 "metadata": {
  "kernelspec": {
   "display_name": "Python 3 (ipykernel)",
   "language": "python",
   "name": "python3"
  },
  "language_info": {
   "codemirror_mode": {
    "name": "ipython",
    "version": 3
   },
   "file_extension": ".py",
   "mimetype": "text/x-python",
   "name": "python",
   "nbconvert_exporter": "python",
   "pygments_lexer": "ipython3",
   "version": "3.9.13"
  }
 },
 "nbformat": 4,
 "nbformat_minor": 5
}
